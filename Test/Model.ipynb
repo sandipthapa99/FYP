{
 "cells": [
  {
   "cell_type": "code",
   "execution_count": 1,
   "id": "hazardous-climate",
   "metadata": {},
   "outputs": [],
   "source": [
    "import tensorflow as tf\n",
    "import matplotlib.pyplot as plt\n",
    "import numpy as np\n",
    "from tensorflow.keras.models import Sequential\n",
    "from tensorflow.keras.layers import Dense, Dropout, Activation, Flatten, Conv2D, MaxPooling2D\n",
    "import cv2\n",
    "import os,sys\n",
    "import seaborn as sns\n",
    "from random import shuffle\n",
    "from tqdm import tqdm\n",
    "import scipy\n",
    "import skimage\n",
    "from skimage.transform import resize\n",
    "from sklearn.model_selection import train_test_split"
   ]
  },
  {
   "cell_type": "code",
   "execution_count": 2,
   "id": "documentary-guess",
   "metadata": {},
   "outputs": [
    {
     "name": "stdout",
     "output_type": "stream",
     "text": [
      "['test', 'train']\n",
      "['0', '1', '2', '3', '4', '5', '6', '7', '8', '9', 'div', 'minus', 'plus', 'times']\n"
     ]
    }
   ],
   "source": [
    "print(os.listdir(\"dataset\"))\n",
    "print(os.listdir(\"dataset/test\"))"
   ]
  },
  {
   "cell_type": "code",
   "execution_count": 3,
   "id": "impossible-uncertainty",
   "metadata": {},
   "outputs": [],
   "source": [
    "Train_DIR  = \"dataset/train/\"\n",
    "Test_DIR = \"dataset/test/\""
   ]
  },
  {
   "cell_type": "code",
   "execution_count": 4,
   "id": "basic-spider",
   "metadata": {},
   "outputs": [],
   "source": [
    "#Preprocessing\n",
    "def get_label(Dir):\n",
    "    for nextdir in os.listdir(Dir):\n",
    "        if not nextdir.startswith('.'):\n",
    "            if nextdir in ['0']:\n",
    "                label = 0\n",
    "            elif nextdir in ['1']:\n",
    "                label = 1\n",
    "            elif nextdir in ['2']:\n",
    "                label = 2\n",
    "            elif nextdir in ['3']:\n",
    "                label = 3\n",
    "            elif nextdir in ['4']:\n",
    "                label = 4\n",
    "            elif nextdir in ['5']:\n",
    "                label = 5\n",
    "            elif nextdir in ['6']:\n",
    "                label = 6\n",
    "            elif nextdir in ['7']:\n",
    "                label = 7\n",
    "            elif nextdir in ['8']:\n",
    "                label = 8\n",
    "            elif nextdir in ['9']:\n",
    "                label = 9\n",
    "            elif nextdir in ['plus']:\n",
    "                label = 10\n",
    "            elif nextdir in ['minus']:\n",
    "                label = 11\n",
    "            elif nextdir in ['div']:\n",
    "                label = 12\n",
    "            elif nextdir in ['times']:\n",
    "                label = 13\n",
    "            else:\n",
    "                label = 14\n",
    "    return nextdir, label"
   ]
  },
  {
   "cell_type": "code",
   "execution_count": 5,
   "id": "worldwide-database",
   "metadata": {},
   "outputs": [],
   "source": [
    "# labels = ['0', '1','2','3','4','5','6','7','8','9','div','minus','plus','times']\n",
    "# def get_data(data_dir):\n",
    "#     data = []\n",
    "#     for label in labels:\n",
    "#         path = os.path.join(data_dir, label)\n",
    "#         class_num = labels.index(label)\n",
    "#         for image in os.listdir(path):\n",
    "#             try:\n",
    "#                 img_arr = cv2.imread(os.path.join(path,img))[...,::-1]\n",
    "#                 resized_arr = cv2.resize(img_arr,(img_size,img_size))\n",
    "#                 data.append([resized_arr, class_num])\n",
    "#             except Exception as e:\n",
    "#                 print(e)\n",
    "#         return np.array(data)"
   ]
  },
  {
   "cell_type": "code",
   "execution_count": 6,
   "id": "after-wallace",
   "metadata": {},
   "outputs": [],
   "source": [
    "def get_data(Dir):\n",
    "    X = []\n",
    "    y = []\n",
    "    for nextDir in os.listdir(Dir):\n",
    "        if not nextDir.startswith('.'):\n",
    "            if nextDir in ['cars']:\n",
    "                label = 0\n",
    "            elif nextDir in ['planes']:\n",
    "                label = 1\n",
    "            else:\n",
    "                label = 2\n",
    "                \n",
    "            temp = Dir + nextDir\n",
    "                \n",
    "            for file in tqdm(os.listdir(temp)):\n",
    "                img = cv2.imread(temp + '/' + file)\n",
    "                if img is not None:\n",
    "                    img = skimage.transform.resize(img, (150, 150, 3))\n",
    "                    #img_file = scipy.misc.imresize(arr=img_file, size=(150, 150, 3))\n",
    "                    img = np.asarray(img)\n",
    "                    X.append(img)\n",
    "                    y.append(label)\n",
    "                    \n",
    "    X = np.asarray(X)\n",
    "    y = np.asarray(y)\n",
    "    return X,y"
   ]
  },
  {
   "cell_type": "code",
   "execution_count": 7,
   "id": "entertaining-level",
   "metadata": {},
   "outputs": [
    {
     "name": "stderr",
     "output_type": "stream",
     "text": [
      "100%|██████████████████████████████████████████████████████████████████████████████| 1413/1413 [00:19<00:00, 73.22it/s]\n",
      "100%|██████████████████████████████████████████████████████████████████████████████| 1558/1558 [00:22<00:00, 69.95it/s]\n",
      "100%|██████████████████████████████████████████████████████████████████████████████| 2110/2110 [00:31<00:00, 66.81it/s]\n",
      "100%|██████████████████████████████████████████████████████████████████████████████| 1751/1751 [00:26<00:00, 65.61it/s]\n",
      " 79%|█████████████████████████████████████████████████████████████▎                | 1466/1864 [00:21<00:05, 67.31it/s]\n"
     ]
    },
    {
     "ename": "KeyboardInterrupt",
     "evalue": "",
     "output_type": "error",
     "traceback": [
      "\u001b[1;31m---------------------------------------------------------------------------\u001b[0m",
      "\u001b[1;31mKeyboardInterrupt\u001b[0m                         Traceback (most recent call last)",
      "\u001b[1;32m<ipython-input-7-45fb65e00fc6>\u001b[0m in \u001b[0;36m<module>\u001b[1;34m\u001b[0m\n\u001b[1;32m----> 1\u001b[1;33m \u001b[0mX_train\u001b[0m\u001b[1;33m,\u001b[0m \u001b[0my_train\u001b[0m \u001b[1;33m=\u001b[0m \u001b[0mget_data\u001b[0m\u001b[1;33m(\u001b[0m\u001b[0mTrain_DIR\u001b[0m\u001b[1;33m)\u001b[0m\u001b[1;33m\u001b[0m\u001b[1;33m\u001b[0m\u001b[0m\n\u001b[0m",
      "\u001b[1;32m<ipython-input-6-ecdd45fd843a>\u001b[0m in \u001b[0;36mget_data\u001b[1;34m(Dir)\u001b[0m\n\u001b[0;32m     14\u001b[0m \u001b[1;33m\u001b[0m\u001b[0m\n\u001b[0;32m     15\u001b[0m             \u001b[1;32mfor\u001b[0m \u001b[0mfile\u001b[0m \u001b[1;32min\u001b[0m \u001b[0mtqdm\u001b[0m\u001b[1;33m(\u001b[0m\u001b[0mos\u001b[0m\u001b[1;33m.\u001b[0m\u001b[0mlistdir\u001b[0m\u001b[1;33m(\u001b[0m\u001b[0mtemp\u001b[0m\u001b[1;33m)\u001b[0m\u001b[1;33m)\u001b[0m\u001b[1;33m:\u001b[0m\u001b[1;33m\u001b[0m\u001b[1;33m\u001b[0m\u001b[0m\n\u001b[1;32m---> 16\u001b[1;33m                 \u001b[0mimg\u001b[0m \u001b[1;33m=\u001b[0m \u001b[0mcv2\u001b[0m\u001b[1;33m.\u001b[0m\u001b[0mimread\u001b[0m\u001b[1;33m(\u001b[0m\u001b[0mtemp\u001b[0m \u001b[1;33m+\u001b[0m \u001b[1;34m'/'\u001b[0m \u001b[1;33m+\u001b[0m \u001b[0mfile\u001b[0m\u001b[1;33m)\u001b[0m\u001b[1;33m\u001b[0m\u001b[1;33m\u001b[0m\u001b[0m\n\u001b[0m\u001b[0;32m     17\u001b[0m                 \u001b[1;32mif\u001b[0m \u001b[0mimg\u001b[0m \u001b[1;32mis\u001b[0m \u001b[1;32mnot\u001b[0m \u001b[1;32mNone\u001b[0m\u001b[1;33m:\u001b[0m\u001b[1;33m\u001b[0m\u001b[1;33m\u001b[0m\u001b[0m\n\u001b[0;32m     18\u001b[0m                     \u001b[0mimg\u001b[0m \u001b[1;33m=\u001b[0m \u001b[0mskimage\u001b[0m\u001b[1;33m.\u001b[0m\u001b[0mtransform\u001b[0m\u001b[1;33m.\u001b[0m\u001b[0mresize\u001b[0m\u001b[1;33m(\u001b[0m\u001b[0mimg\u001b[0m\u001b[1;33m,\u001b[0m \u001b[1;33m(\u001b[0m\u001b[1;36m150\u001b[0m\u001b[1;33m,\u001b[0m \u001b[1;36m150\u001b[0m\u001b[1;33m,\u001b[0m \u001b[1;36m3\u001b[0m\u001b[1;33m)\u001b[0m\u001b[1;33m)\u001b[0m\u001b[1;33m\u001b[0m\u001b[1;33m\u001b[0m\u001b[0m\n",
      "\u001b[1;31mKeyboardInterrupt\u001b[0m: "
     ]
    }
   ],
   "source": [
    " X_train, y_train = get_data(Train_DIR)"
   ]
  },
  {
   "cell_type": "code",
   "execution_count": null,
   "id": "informational-italy",
   "metadata": {},
   "outputs": [],
   "source": [
    "X_test , y_test = get_data(Test_DIR)"
   ]
  }
 ],
 "metadata": {
  "kernelspec": {
   "display_name": "Python 3",
   "language": "python",
   "name": "python3"
  },
  "language_info": {
   "codemirror_mode": {
    "name": "ipython",
    "version": 3
   },
   "file_extension": ".py",
   "mimetype": "text/x-python",
   "name": "python",
   "nbconvert_exporter": "python",
   "pygments_lexer": "ipython3",
   "version": "3.8.5"
  }
 },
 "nbformat": 4,
 "nbformat_minor": 5
}
