{
 "cells": [
  {
   "cell_type": "code",
   "execution_count": 11,
   "id": "impossible-richardson",
   "metadata": {},
   "outputs": [
    {
     "name": "stdout",
     "output_type": "stream",
     "text": [
      "2+3-6\n",
      "\f",
      "\n"
     ]
    },
    {
     "data": {
      "text/plain": [
       "-1"
      ]
     },
     "execution_count": 11,
     "metadata": {},
     "output_type": "execute_result"
    }
   ],
   "source": [
    "# We're going to start experimenting with tesseract using just a simple image of nice clean text.\n",
    "# Lets first import Image from PIL and display the image text.png.\n",
    "from PIL import Image\n",
    "import pytesseract\n",
    "import cv2\n",
    "pytesseract.pytesseract.tesseract_cmd = r\"C:\\Program Files\\Tesseract-OCR\\tesseract.exe\"\n",
    "\n",
    "image = cv2.imread('images/test/1.png')\n",
    "image = cv2.cvtColor(image,cv2.COLOR_BGR2RGB)\n",
    "\n",
    "print(pytesseract.image_to_string(image))\n",
    "\n",
    "# Detecting Characters\n",
    "hImg,wImg,c = image.shape\n",
    "boxes = pytesseract.image_to_boxes(image)\n",
    "for b in boxes.splitlines():\n",
    "#     print(b)\n",
    "    b=b.split(' ')\n",
    "#     print(b)\n",
    "    x,y,w,h = int(b[1]),int(b[2]),int(b[3]),int(b[4])\n",
    "#     w and h are the diagonal points of the bounding box not actual width and height\n",
    "    cv2.rectangle(image,(x,hImg-y),(w,hImg-h),(0,0,255),1)\n",
    "    cv2.putText(image,b[0],(x,hImg-y+30),cv2.FONT_HERSHEY_COMPLEX,1,(50,50,255),2)\n",
    "\n",
    "cv2.imshow('Result',image)\n",
    "cv2.waitKey(0)"
   ]
  },
  {
   "cell_type": "code",
   "execution_count": 4,
   "id": "rolled-selection",
   "metadata": {},
   "outputs": [
    {
     "name": "stdout",
     "output_type": "stream",
     "text": [
      "2+9*6\n",
      "\f",
      "\n"
     ]
    },
    {
     "data": {
      "text/plain": [
       "-1"
      ]
     },
     "execution_count": 4,
     "metadata": {},
     "output_type": "execute_result"
    }
   ],
   "source": [
    "# We're going to start experimenting with tesseract using just a simple image of nice clean text.\n",
    "# Lets first import Image from PIL and display the image text.png.\n",
    "# from PIL import Image\n",
    "import pytesseract\n",
    "import cv2\n",
    "pytesseract.pytesseract.tesseract_cmd = r\"C:\\Program Files\\Tesseract-OCR\\tesseract.exe\"\n",
    "\n",
    "image = cv2.imread('images/test/2.png')\n",
    "image = cv2.cvtColor(image,cv2.COLOR_BGR2RGB)\n",
    "\n",
    "print(pytesseract.image_to_string(image))\n",
    "\n",
    "# Detecting Characters\n",
    "hImg,wImg,c = image.shape\n",
    "boxes = pytesseract.image_to_boxes(image)\n",
    "for b in boxes.splitlines():\n",
    "#     print(b)\n",
    "    b=b.split(' ')\n",
    "#     print(b)\n",
    "    x,y,w,h = int(b[1]),int(b[2]),int(b[3]),int(b[4])\n",
    "#     w and h are the diagonal points of the bounding box not actual width and height\n",
    "    cv2.rectangle(image,(x,hImg-y),(w,hImg-h),(0,0,255),1)\n",
    "    cv2.putText(image,b[0],(x,hImg-y+30),cv2.FONT_HERSHEY_COMPLEX,1,(50,50,255),2)\n",
    "\n",
    "cv2.imshow('Result',image)\n",
    "cv2.waitKey(0)"
   ]
  },
  {
   "cell_type": "code",
   "execution_count": 2,
   "id": "general-carry",
   "metadata": {
    "slideshow": {
     "slide_type": "slide"
    }
   },
   "outputs": [
    {
     "name": "stdout",
     "output_type": "stream",
     "text": [
      "2+2\n",
      "\f",
      "\n",
      "<class 'str'>\n"
     ]
    },
    {
     "data": {
      "text/plain": [
       "-1"
      ]
     },
     "execution_count": 2,
     "metadata": {},
     "output_type": "execute_result"
    }
   ],
   "source": [
    "# We're going to start experimenting with tesseract using just a simple image of nice clean text.\n",
    "# Lets first import Image from PIL and display the image text.png.\n",
    "from PIL import Image\n",
    "import pytesseract\n",
    "import cv2\n",
    "pytesseract.pytesseract.tesseract_cmd = r\"C:\\Program Files\\Tesseract-OCR\\tesseract.exe\"\n",
    "\n",
    "image = cv2.imread('images/eq1.png')\n",
    "image = cv2.cvtColor(image,cv2.COLOR_BGR2RGB)\n",
    "\n",
    "detected = pytesseract.image_to_string(image)\n",
    "print(detected)\n",
    "print(type(detected))\n",
    "\n",
    "# Detecting Characters\n",
    "hImg,wImg,c = image.shape\n",
    "boxes = pytesseract.image_to_boxes(image)\n",
    "for b in boxes.splitlines():\n",
    "#     print(b)\n",
    "    b=b.split(' ')\n",
    "#     print(b)\n",
    "    x,y,w,h = int(b[1]),int(b[2]),int(b[3]),int(b[4])\n",
    "#     w and h are the diagonal points of the bounding box not actual width and height\n",
    "    cv2.rectangle(image,(x,hImg-y),(w,hImg-h),(0,0,255),1)\n",
    "    cv2.putText(image,b[0],(x,hImg-y+30),cv2.FONT_HERSHEY_COMPLEX,1,(50,50,255),2)\n",
    "\n",
    "cv2.imshow('Result',image)\n",
    "cv2.waitKey(0)"
   ]
  },
  {
   "cell_type": "code",
   "execution_count": null,
   "id": "aware-adelaide",
   "metadata": {},
   "outputs": [],
   "source": []
  },
  {
   "cell_type": "code",
   "execution_count": 7,
   "id": "environmental-hudson",
   "metadata": {
    "slideshow": {
     "slide_type": "slide"
    }
   },
   "outputs": [
    {
     "name": "stdout",
     "output_type": "stream",
     "text": [
      "Detected Text: 24/8-6+5\n",
      "\f",
      "\n"
     ]
    },
    {
     "data": {
      "text/plain": [
       "-1"
      ]
     },
     "execution_count": 7,
     "metadata": {},
     "output_type": "execute_result"
    }
   ],
   "source": [
    "import pytesseract\n",
    "import cv2\n",
    "pytesseract.pytesseract.tesseract_cmd = r\"C:\\Program Files\\Tesseract-OCR\\tesseract.exe\"\n",
    "\n",
    "image = cv2.imread('images/test/3.png')\n",
    "image = cv2.cvtColor(image,cv2.COLOR_BGR2RGB)\n",
    "\n",
    "detected = pytesseract.image_to_string(image)\n",
    "print(\"Detected Text:\",detected)\n",
    "# type(detected)\n",
    "\n",
    "# Detecting Characters\n",
    "hImg,wImg,c = image.shape\n",
    "boxes = pytesseract.image_to_boxes(image)\n",
    "for i in boxes.splitlines():\n",
    "#     print(i)\n",
    "    i = i.split(' ')\n",
    "#     print(i)\n",
    "    x,y,width,height = int(i[1]),int(i[2]),int(i[3]),int(i[4])\n",
    "#     width and height are the diagonal points of the bounding box not actual width and height\n",
    "    cv2.rectangle(image,(x,hImg-y),(width,hImg-height),(0,0,255),1)\n",
    "    cv2.putText(image,i[0],(x,hImg-y+30),cv2.FONT_HERSHEY_COMPLEX,1,(50,50,255),2)\n",
    "\n",
    "cv2.imshow('Result',image)\n",
    "cv2.waitKey(0)"
   ]
  },
  {
   "cell_type": "code",
   "execution_count": null,
   "id": "vocal-owner",
   "metadata": {},
   "outputs": [],
   "source": []
  },
  {
   "cell_type": "code",
   "execution_count": null,
   "id": "acknowledged-definition",
   "metadata": {},
   "outputs": [],
   "source": []
  },
  {
   "cell_type": "code",
   "execution_count": null,
   "id": "altered-diagnosis",
   "metadata": {},
   "outputs": [],
   "source": []
  },
  {
   "cell_type": "code",
   "execution_count": null,
   "id": "declared-blank",
   "metadata": {},
   "outputs": [],
   "source": []
  }
 ],
 "metadata": {
  "kernelspec": {
   "display_name": "Python 3",
   "language": "python",
   "name": "python3"
  },
  "language_info": {
   "codemirror_mode": {
    "name": "ipython",
    "version": 3
   },
   "file_extension": ".py",
   "mimetype": "text/x-python",
   "name": "python",
   "nbconvert_exporter": "python",
   "pygments_lexer": "ipython3",
   "version": "3.8.5"
  }
 },
 "nbformat": 4,
 "nbformat_minor": 5
}
